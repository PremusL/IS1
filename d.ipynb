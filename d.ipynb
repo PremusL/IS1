{
 "cells": [
  {
   "cell_type": "code",
   "execution_count": 14,
   "metadata": {},
   "outputs": [],
   "source": [
    "import pandas as pd\n",
    "from r import *\n",
    "import json\n",
    "import random as rnd"
   ]
  },
  {
   "cell_type": "code",
   "execution_count": 2,
   "metadata": {},
   "outputs": [
    {
     "name": "stdout",
     "output_type": "stream",
     "text": [
      "                                  Equation  \\\n",
      "0                           ((x ** 4) - 6)   \n",
      "1                      (((x / 8) * 2) + 1)   \n",
      "2                      (((x - 1) - 3) / 5)   \n",
      "3                                  (x * 5)   \n",
      "4                                  (x + 2)   \n",
      "..                                     ...   \n",
      "93            1*x**5 + -2*x**3 + -1*x + -5   \n",
      "94              3*x**5 + 2*x**4 + 1*x + -2   \n",
      "95                     -4*x**5 + -1*x + -5   \n",
      "96                                4*x + +1   \n",
      "97   -4*x**5 + 3*x**4 + -4*x**2 + -2*x + 5   \n",
      "\n",
      "                                                   Xs  \\\n",
      "0   [1, 2, 3, 4, 5, 6, 7, 8, 9, 10, 11, 12, 13, 14...   \n",
      "1   [1, 2, 3, 4, 5, 6, 7, 8, 9, 10, 11, 12, 13, 14...   \n",
      "2   [1, 2, 3, 4, 5, 6, 7, 8, 9, 10, 11, 12, 13, 14...   \n",
      "3   [1, 2, 3, 4, 5, 6, 7, 8, 9, 10, 11, 12, 13, 14...   \n",
      "4   [1, 2, 3, 4, 5, 6, 7, 8, 9, 10, 11, 12, 13, 14...   \n",
      "..                                                ...   \n",
      "93  [1, 2, 3, 4, 5, 6, 7, 8, 9, 10, 11, 12, 13, 14...   \n",
      "94  [1, 2, 3, 4, 5, 6, 7, 8, 9, 10, 11, 12, 13, 14...   \n",
      "95  [1, 2, 3, 4, 5, 6, 7, 8, 9, 10, 11, 12, 13, 14...   \n",
      "96  [1, 2, 3, 4, 5, 6, 7, 8, 9, 10, 11, 12, 13, 14...   \n",
      "97  [1, 2, 3, 4, 5, 6, 7, 8, 9, 10, 11, 12, 13, 14...   \n",
      "\n",
      "                                                   Ys  \n",
      "0   [-5, 10, 75, 250, 619, 1290, 2395, 4090, 6555,...  \n",
      "1   [1.25, 1.5, 1.75, 2.0, 2.25, 2.5, 2.75, 3.0, 3...  \n",
      "2   [-0.6, -0.4, -0.2, 0.0, 0.2, 0.4, 0.6, 0.8, 1....  \n",
      "3   [5, 10, 15, 20, 25, 30, 35, 40, 45, 50, 55, 60...  \n",
      "4   [3, 4, 5, 6, 7, 8, 9, 10, 11, 12, 13, 14, 15, ...  \n",
      "..                                                ...  \n",
      "93  [-7, 9, 181, 887, 2865, 7333, 16109, 31731, 57...  \n",
      "94  [4, 128, 892, 3586, 10628, 25924, 55228, 10650...  \n",
      "95  [-10, -135, -980, -4105, -12510, -31115, -6724...  \n",
      "96  [5, 9, 13, 17, 21, 25, 29, 33, 37, 41, 45, 49,...  \n",
      "97  [-2, -95, -766, -3395, -10730, -27367, -60230,...  \n",
      "\n",
      "[98 rows x 3 columns]\n"
     ]
    }
   ],
   "source": [
    "data = pd.read_csv(\"./dataset.csv\")\n",
    "formule = data['Equation']\n",
    "print(data)"
   ]
  },
  {
   "cell_type": "code",
   "execution_count": 4,
   "metadata": {},
   "outputs": [],
   "source": [
    "def get_exp(data):\n",
    "    expression = data['Equation']\n",
    "    tokens = parse_equation1(expression)\n",
    "    fix_sorted_tokens = fix2(tokens)\n",
    "    sorted_tokens = sort_tokens(fix_sorted_tokens)\n",
    "    tree = build_tree(sorted_tokens)\n",
    "    return tree"
   ]
  },
  {
   "cell_type": "code",
   "execution_count": 169,
   "metadata": {},
   "outputs": [],
   "source": [
    "def get_exp_fromArr(data):\n",
    "    expression = data\n",
    "    tokens = parse_equation1(expression)\n",
    "    fix_sorted_tokens = fix2(tokens)\n",
    "    sorted_tokens = sort_tokens(fix_sorted_tokens)\n",
    "    tree = build_tree(sorted_tokens)\n",
    "    return tree"
   ]
  },
  {
   "cell_type": "code",
   "execution_count": 140,
   "metadata": {},
   "outputs": [
    {
     "name": "stdout",
     "output_type": "stream",
     "text": [
      "x - 2 + 4 * 5 \n",
      "-1 * x ^ 5 + 1 * x + 1 "
     ]
    }
   ],
   "source": [
    "tree1 = get_exp(data.iloc[10])\n",
    "tree2 = get_exp(data.iloc[60])\n",
    "\n",
    "print_infix(tree1)\n",
    "print()\n",
    "print_infix(tree2)"
   ]
  },
  {
   "cell_type": "code",
   "execution_count": 163,
   "metadata": {},
   "outputs": [],
   "source": [
    "def crossover(parent1, parent2):\n",
    "    # Copy the parents to avoid modifying them directly\n",
    "    child1 = copy_tree(parent1)\n",
    "    child2 = copy_tree(parent2)\n",
    "\n",
    "    # Choose a random node in each parent\n",
    "    node1 = get_random_node(child1)\n",
    "    node2 = get_random_node(child2)\n",
    "\n",
    "    # Swap the subtrees rooted at the chosen nodes\n",
    "    temp_subtree = copy_tree(node1)\n",
    "    node1.value = node2.value\n",
    "    node1.left = node2.left\n",
    "    node1.right = node2.right\n",
    "    node2.value = temp_subtree.value\n",
    "    node2.left = temp_subtree.left\n",
    "    node2.right = temp_subtree.right\n",
    "\n",
    "    return child1, child2\n",
    "\n",
    "def copy_tree(root):\n",
    "    if root is None:\n",
    "        return None\n",
    "    new_node = Node(root.value)\n",
    "    new_node.left = copy_tree(root.left)\n",
    "    new_node.right = copy_tree(root.right)\n",
    "    return new_node\n",
    "\n",
    "def get_random_node(root):\n",
    "    # Helper function to get a random node in the tree\n",
    "    nodes = []\n",
    "    traverse_tree(root, nodes)\n",
    "    return rnd.choice(nodes)\n",
    "\n",
    "def traverse_tree(node, nodes):\n",
    "    # Helper function to traverse the tree and collect nodes\n",
    "    if node:\n",
    "        nodes.append(node)\n",
    "        traverse_tree(node.left, nodes)\n",
    "        traverse_tree(node.right, nodes)\n",
    "\n",
    "def check_if_x(node):\n",
    "    if node is None:\n",
    "        return False\n",
    "    \n",
    "    if node.value == 'x':\n",
    "        return True\n",
    "    \n",
    "    return (check_if_x(node.left) or check_if_x(node.right))\n",
    "\n",
    "def tree_to_array(node,nodes):\n",
    "    if node:\n",
    "        tree_to_array(node.left, nodes)\n",
    "        nodes.append(node.value)\n",
    "        tree_to_array(node.right, nodes)\n",
    "\n"
   ]
  },
  {
   "cell_type": "code",
   "execution_count": 173,
   "metadata": {},
   "outputs": [],
   "source": [
    "def listToString(s):\n",
    " \n",
    "    str1 = ''.join(str(x) for x in s)\n",
    "    # return string\n",
    "    return str1"
   ]
  },
  {
   "cell_type": "code",
   "execution_count": 190,
   "metadata": {},
   "outputs": [],
   "source": [
    "def infixString(node):\n",
    "    if node is None:\n",
    "        return ''\n",
    "    left = infixString(node.left)\n",
    "    right = infixString(node.right)\n",
    "    if left and right:\n",
    "        return '{} {} {}'.format(left, node.value, right)\n",
    "\n",
    "    else:\n",
    "        return str(node.value)"
   ]
  },
  {
   "cell_type": "code",
   "execution_count": 193,
   "metadata": {},
   "outputs": [
    {
     "name": "stdout",
     "output_type": "stream",
     "text": [
      "x ^ 5 \n",
      "x ^ 5\n",
      "\n",
      "32\n"
     ]
    }
   ],
   "source": [
    "swap1,swap2 = crossover(tree1,tree2)\n",
    "while(check_if_x(swap1) == False) or (check_if_x(swap2) == False):\n",
    "    swap1,swap2 = crossover(tree1,tree2)\n",
    "\n",
    "\n",
    "# arr1 = []\n",
    "# tree_to_array(swap1,arr1)\n",
    "arr2 = infixString(swap1)\n",
    "print(arr2)\n",
    "print()\n",
    "\n",
    "newTree = get_exp_fromArr(arr2)\n",
    "print(calculate_tree(newTree,2))\n",
    "\n",
    "# print(check_if_x(swap1), check_if_x(swap2))\n",
    "# print_infix(tree1)\n",
    "# print_infix(tree2)\n",
    "# print()\n",
    "# print()\n",
    "# print_infix(swap2)\n",
    "# print()\n",
    "# print(calculate_tree(swap1,2))"
   ]
  }
 ],
 "metadata": {
  "kernelspec": {
   "display_name": "Python 3",
   "language": "python",
   "name": "python3"
  },
  "language_info": {
   "codemirror_mode": {
    "name": "ipython",
    "version": 3
   },
   "file_extension": ".py",
   "mimetype": "text/x-python",
   "name": "python",
   "nbconvert_exporter": "python",
   "pygments_lexer": "ipython3",
   "version": "3.10.12"
  }
 },
 "nbformat": 4,
 "nbformat_minor": 2
}
