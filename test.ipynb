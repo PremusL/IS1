{
 "cells": [
  {
   "cell_type": "markdown",
   "metadata": {},
   "source": [
    "# Inteligentni sistemi genetsko programiranje za simbolično regresijo\n",
    "**Genetski algoritm napisan v Pythonu**\n",
    "\n",
    "Avtorja:\n",
    "\n",
    "Luka Premuš, Domen Beden\n"
   ]
  },
  {
   "cell_type": "markdown",
   "metadata": {},
   "source": [
    "### Knjižnice:"
   ]
  },
  {
   "cell_type": "code",
   "execution_count": 18,
   "metadata": {},
   "outputs": [],
   "source": [
    "import pandas as pd\n",
    "from r import *\n",
    "from r2 import *\n",
    "import json\n",
    "import math\n",
    "from sympy import simplify\n",
    "import matplotlib.pyplot as plt\n",
    "\n",
    "\n",
    "data = pd.read_csv(\"./dataset.csv\")\n",
    "formule = data['Equation']\n"
   ]
  },
  {
   "cell_type": "markdown",
   "metadata": {},
   "source": [
    "## Generiranje populacije"
   ]
  },
  {
   "cell_type": "markdown",
   "metadata": {},
   "source": [
    "Za začetek delovanja genetskega algoritma je potrebna začetna populacija. V našem primeru je primerek iz populacije aritmetični izraz. \n",
    "\n",
    "Pri generiranju aritmetičnih izrazov naključno izberamo operacije in vrednosti v izrazih. \n",
    "\n",
    "**Možne operacije**: seštevanje (+), odštevanje (-), množenje (*), deljenje (/) in potenciranje (**)\n",
    "\n",
    "**Možne vrednosti**: števila od 1 do 9, neodvisna spremenljivka $x$, naravni logaritem od števil 1 do 9, naravni logaritem od spremenljivke $x$ sinus od spremenljivke $x$, kosinus od spremenljivke $x$, od števil 1 do 9 in kosinus od števil 1 do 9. V naboru vrednosti, ki jih izbira algoritem pri izdelavi artimetične enačbe, se izbor \"števila od 1 do 9\" ponovi večkrat, saj s tem imajo večjo verjetnost, da so izbrane številke pri generaciji. S tem se izogneva izdelavi pretirane kompleksnosti enačb. \n",
    "\n",
    "Nato naključno generiramo število vrednosti, ki se nahaja med naravnim številom podanim z argumentom *numTerms* in *numTerms + 2*.\n",
    "\n",
    "Funkcija *generate_expression* poleg tega da naključno izbira operacije in vrednosti, poskrbi tudi, da se v izrazu nahaja vsaj ena neodivsna spremenljivka $x$.\n",
    "\n",
    "Funkcija se strogo izogiba enačbam, ki vsebujejo $x^{x}$. Te enčbe se izkažejo za težko obvladljive in hitro pride do **preliva** (ang. *Overflow*). "
   ]
  },
  {
   "cell_type": "code",
   "execution_count": 29,
   "metadata": {},
   "outputs": [],
   "source": [
    "def generate_expression(numTerms, x_index):\n",
    "    operators = [\"+\", \"-\", \"*\",\"/\", \"**\"]\n",
    "    vals = [str(random.randint(1, 9)),str(random.randint(1, 9)),\n",
    "            str(random.randint(1, 9)),str(random.randint(1, 9)),\n",
    "            str(random.randint(1, 9)),\n",
    "              \"x\", f\"log{str(random.randint(1,9))}\",\n",
    "              \"logx\",\"sinx\",\"cosx\",\n",
    "              f\"sin{str(random.randint(1,9))}\",\n",
    "              f\"cos{str(random.randint(1,9))}\"]\n",
    "    vals2 = str(random.randint(1, 9))\n",
    "    \n",
    "    num_terms = random.randint(numTerms, 2+numTerms)\n",
    "    \n",
    "    x_index %= numTerms\n",
    "    correct = False\n",
    "    while not correct:\n",
    "        correct = True\n",
    "        terms = []\n",
    "        del terms[:]\n",
    "        x = 0\n",
    "        for i in range(num_terms):\n",
    "            \n",
    "            op = random.choice(operators)\n",
    "            num = random.choice(vals)\n",
    "\n",
    "            if x_index == i:\n",
    "                if i > 0 and terms[i-1] == \"**\":\n",
    "                    correct = False\n",
    "                    break     #da ne dobimo neki**x\n",
    "                else:\n",
    "                    num = \"x\"\n",
    "                    x += 1\n",
    "            else:\n",
    "                if i > 0 and terms[i-1] == \"**\":\n",
    "                    \n",
    "                    if num == \"x\":\n",
    "                        correct = False\n",
    "                        break\n",
    "            terms.append(num)\n",
    "            terms.append(op)\n",
    "\n",
    "        terms.append(vals2)\n",
    "        expression = \"\".join(terms)\n",
    "\n",
    "    return expression"
   ]
  },
  {
   "cell_type": "markdown",
   "metadata": {},
   "source": [
    "Primeri 15 generiranih enačb z minimalno petimi vrednostmi:"
   ]
  },
  {
   "cell_type": "code",
   "execution_count": 30,
   "metadata": {},
   "outputs": [
    {
     "name": "stdout",
     "output_type": "stream",
     "text": [
      "0: x*sin5/logx-cos6-sinx+cos6*3\n",
      "1: cosx**x-sin4*logx/sinx**sin4+3\n",
      "2: logx*cosx-x/1-sin4/2\n",
      "3: 5/sin7+sin7/x/5-cos5*x+5\n",
      "4: cosx+log6+sinx*cos9**x*sin7+cos9+3\n",
      "5: x/cosx**sin5/8-cos9-logx*2\n",
      "6: 8-x-x**x/2+6/1\n",
      "7: log8-cos9**x*logx-sinx/1\n",
      "8: cos6+cosx-sin4/x+cos6-7+6\n",
      "9: 2*log8/sin5*4**x*4\n",
      "10: x**logx*4/8**sinx**1/4**6\n",
      "11: 5+x*6+5**log2*cosx-6\n",
      "12: cosx*9**x*6/log3-logx**1\n",
      "13: log8/x*cos8**x+sin9+logx/7\n",
      "14: cosx**6*8+1-x-2+6\n"
     ]
    }
   ],
   "source": [
    "for i in range(15):\n",
    "    equation = generate_expression(5, i)\n",
    "    print(f\"{i}: {equation}\")\n"
   ]
  },
  {
   "cell_type": "code",
   "execution_count": 28,
   "metadata": {},
   "outputs": [
    {
     "name": "stdout",
     "output_type": "stream",
     "text": [
      "---------------------\n",
      "(((x - 2) + 4) * 5)\n",
      "---------------------\n",
      "5*x + 9 - 3/3**(5**sin3) 0.00016\n"
     ]
    }
   ],
   "source": [
    "equationIndex = 10\n",
    "\n",
    "mutation_choices = [[1,1,1,2,2,3,2,3,3,3,3,3,3,3,3,3,3,3,3,3], [1,1,1,2,2,2], [3], [2], [1]]\n",
    "\n",
    "def ga(N, gen, equationIndex):\n",
    "    \n",
    "    prevN = N\n",
    "    best_of_gens = {}\n",
    "    for i in range(gen):\n",
    "        # print(i+1)\n",
    "        results = {}\n",
    "        N = prevN\n",
    "\n",
    "        for i in range(N):\n",
    "            expression = generate_expression(5, i)\n",
    "            fitness = fitness_MSE(expression, data, equationIndex)\n",
    "            results[fitness] = expression\n",
    "    \n",
    "        N = N // 2\n",
    "        \n",
    "        result = sort_dict(results)\n",
    "        new_dict = dict(list(result.items())[:N])\n",
    "\n",
    "        # [1,1,3,3,3,3,3,3,3,3,3,3,3,3,3]\n",
    "        # [0,0,0,0,0,0,1, 1,1, 2,3,3,3,3, 3]\n",
    "        while N > 1:\n",
    "            for ele in new_dict:\n",
    "                mutation_choice = random.choice([1,1,1,2,2,3,2,3,3,3,3,3,3,3,3,3,3,3,3,3])\n",
    "\n",
    "                if mutation_choice == 1:\n",
    "                    expression = arr_to_string(mutate_value(result[ele]))   \n",
    "                    fitness = fitness_MSE(expression, data, equationIndex)\n",
    "                    \n",
    "                    result[fitness] = expression\n",
    "                if mutation_choice == 2:\n",
    "                    expression = arr_to_string(mutate_operation(result[ele]))\n",
    "\n",
    "                    fitness = (fitness_MSE(expression, data, equationIndex))\n",
    "                    result[fitness] = expression\n",
    "\n",
    "                if mutation_choice == 3:\n",
    "                    tree1, tree2 = pick2trees(new_dict)\n",
    "                    tree1, tree2 = crossover(tree1, tree2)\n",
    "\n",
    "                    #ce ni x v enacbi ponavlja \n",
    "                    while(check_if_x(tree1) == False) or (check_if_x(tree2) == False):\n",
    "                        tree1_str = print_infix_parenthesis(tree1)\n",
    "\n",
    "                        tree2_str = print_infix_parenthesis(tree2)\n",
    "                        # print(f\"tree1: {tree1_str}, tree2: {tree2_str}\")\n",
    "                        tree1,tree2 = crossover(tree1,tree2)\n",
    "                        \n",
    "\n",
    "                    tree1_str = infixString(tree1)\n",
    "                    tree2_str = infixString(tree2)\n",
    "                    \n",
    "                    fitness1 = fitness_MSE(tree1_str, data, equationIndex)\n",
    "                    fitness2 = fitness_MSE(tree2_str, data, equationIndex)\n",
    "\n",
    "\n",
    "                    result[fitness1] = tree1_str\n",
    "                    result[fitness2] = tree2_str\n",
    "\n",
    "                    \n",
    "\n",
    "            N = N // 2\n",
    "            result = sort_dict(results)\n",
    "            new_dict = dict(list(result.items())[:N]) \n",
    "        \n",
    "        #vrne najboljsega iz generacije\n",
    "        val = list(sort_dict(results))[0]\n",
    "        # val = [simplify(results[]) : e in ]\n",
    "        # best_of_gens[val] = (results[val])\n",
    "        best_of_gens[val] = simplify(results[val])\n",
    "\n",
    "        # print(\"best of gen: \" + results[val] + \" \" + str(val))\n",
    "\n",
    "    return best_of_gens\n",
    "\n",
    "k = ga(100, 100, equationIndex)\n",
    "k = sort_dict(k)\n",
    "\n",
    "\n",
    "val = list(k)[0]\n",
    "\n",
    "row = data.iloc[equationIndex]\n",
    "Xs = json.loads(row['Xs'])\n",
    "\n",
    "Ys = json.loads(row['Ys'])\n",
    "real_eq = row['Equation']\n",
    "print(\"---------------------\")\n",
    "\n",
    "print(real_eq)\n",
    "print(\"---------------------\")\n",
    "\n",
    "print(k[val], val)\n",
    "\n",
    "\n"
   ]
  },
  {
   "cell_type": "code",
   "execution_count": null,
   "metadata": {},
   "outputs": [
    {
     "name": "stdout",
     "output_type": "stream",
     "text": [
      "---------------------\n",
      "52 - real eq:  -4*x**5 + 1*x**3 + -2*x**2 + -1*x + -1\n",
      "=====================\n",
      "-5**logx*x**5 + x + 10 3.9063166127738356e+19\n",
      "---------------------\n",
      "---------------------\n",
      "53 - real eq:  -4*x + +2\n",
      "=====================\n",
      "cos9 - sin1 - 4*x + 3 0.56641\n",
      "---------------------\n",
      "---------------------\n",
      "54 - real eq:  -4*x**4 + -2*x**3 + 1*x + -2\n",
      "=====================\n",
      "-x**5/5 + x + 6 3310596063012415.5\n",
      "---------------------\n",
      "---------------------\n",
      "55 - real eq:  4*x**2 + -2*x + +2\n",
      "=====================\n",
      "-3*cos8*cosx + 4*x**2 0.00082\n",
      "---------------------\n",
      "---------------------\n",
      "56 - real eq:  -4*x**4 + 1*x + -2\n",
      "=====================\n",
      "cosx - 38880*x**2 3577366395614657.5\n",
      "---------------------\n",
      "---------------------\n",
      "57 - real eq:  1*x**3 + -2*x**2 + -1*x + 4\n",
      "=====================\n",
      "-cos9*x**3 + 1 0.04038\n",
      "---------------------\n"
     ]
    }
   ],
   "source": [
    "function_accuracy = []\n",
    "\n",
    "for eqIndex in range(52, len(data)-40):\n",
    "    \n",
    "    k = ga(1000, 20, eqIndex)\n",
    "    k = sort_dict(k)\n",
    "\n",
    "    val = list(k)[0]\n",
    "\n",
    "    row = data.iloc[eqIndex]\n",
    "    Xs = json.loads(row['Xs'])\n",
    "\n",
    "    Ys = json.loads(row['Ys'])\n",
    "    real_eq = row['Equation']\n",
    "    print(\"---------------------\")\n",
    "    print(f\"{eqIndex} - real eq: \" + real_eq)\n",
    "    print(\"=====================\")\n",
    "    print(k[val], val)\n",
    "    print(\"---------------------\")\n",
    "    function_accuracy.append(val)\n",
    "\n"
   ]
  },
  {
   "cell_type": "code",
   "execution_count": null,
   "metadata": {},
   "outputs": [],
   "source": [
    "values = function_accuracy.copy()\n",
    "\n",
    "values = [100 if v > 100 else v for v in values]\n",
    "\n",
    "xs = np.arange(98)\n",
    "plt.scatter(xs,values,color='red',marker='o')\n",
    "plt.plot(xs,values,color='blue')\n"
   ]
  },
  {
   "cell_type": "code",
   "execution_count": null,
   "metadata": {},
   "outputs": [],
   "source": [
    "function_accuracy1 = []\n",
    "for eqIndex in range(0, len(data)):\n",
    "    \n",
    "    k = ga(200, 40, eqIndex)\n",
    "    k = sort_dict(k)\n",
    "\n",
    "    val = list(k)[0]\n",
    "\n",
    "    function_accuracy1.append(val)"
   ]
  },
  {
   "cell_type": "code",
   "execution_count": null,
   "metadata": {},
   "outputs": [],
   "source": [
    "values = function_accuracy1.copy()\n",
    "\n",
    "values = [100 if v > 100 else v for v in values]\n",
    "\n",
    "xs = np.arange(98)\n",
    "plt.scatter(xs,values,color='red',marker='o')\n",
    "plt.plot(xs,values,color='blue')"
   ]
  },
  {
   "cell_type": "code",
   "execution_count": null,
   "metadata": {},
   "outputs": [],
   "source": [
    "function_accuracy2 = []\n",
    "for eqIndex in range(0, len(data)):\n",
    "    \n",
    "    k = ga(500, 500, eqIndex)\n",
    "    k = sort_dict(k)\n",
    "\n",
    "    val = list(k)[0]\n",
    "\n",
    "    function_accuracy2.append(val)"
   ]
  },
  {
   "cell_type": "code",
   "execution_count": null,
   "metadata": {},
   "outputs": [],
   "source": [
    "values = function_accuracy2.copy()\n",
    "\n",
    "values = [100 if v > 100 else v for v in values]\n",
    "\n",
    "xs = np.arange(98)\n",
    "plt.scatter(xs,values,color='red',marker='o')\n",
    "plt.plot(xs,values,color='blue')"
   ]
  },
  {
   "cell_type": "code",
   "execution_count": null,
   "metadata": {},
   "outputs": [],
   "source": [
    "function_accuracy3 = []\n",
    "for eqIndex in range(0, len(data)):\n",
    "    \n",
    "    k = ga(100, 100, eqIndex)\n",
    "    k = sort_dict(k)\n",
    "\n",
    "    val = list(k)[0]\n",
    "\n",
    "    function_accuracy3.append(val)"
   ]
  },
  {
   "cell_type": "code",
   "execution_count": null,
   "metadata": {},
   "outputs": [],
   "source": [
    "values = function_accuracy3.copy()\n",
    "\n",
    "values = [100 if v > 100 else v for v in values]\n",
    "\n",
    "xs = np.arange(98)\n",
    "plt.scatter(xs,values,color='red',marker='o')\n",
    "plt.plot(xs,values,color='blue')"
   ]
  },
  {
   "cell_type": "code",
   "execution_count": null,
   "metadata": {},
   "outputs": [],
   "source": [
    "function_accuracy4 = []\n",
    "for eqIndex in range(0, len(data)):\n",
    "    \n",
    "    k = ga(800, 50, eqIndex)\n",
    "    k = sort_dict(k)\n",
    "\n",
    "    val = list(k)[0]\n",
    "\n",
    "    function_accuracy4.append(val)"
   ]
  },
  {
   "cell_type": "code",
   "execution_count": null,
   "metadata": {},
   "outputs": [],
   "source": [
    "values = function_accuracy4.copy()\n",
    "\n",
    "values = [100 if v > 100 else v for v in values]\n",
    "\n",
    "xs = np.arange(98)\n",
    "plt.scatter(xs,values,color='red',marker='o')\n",
    "plt.plot(xs,values,color='blue')"
   ]
  },
  {
   "cell_type": "code",
   "execution_count": null,
   "metadata": {},
   "outputs": [],
   "source": [
    "function_accuracy5 = []\n",
    "for eqIndex in range(0, len(data)):\n",
    "    \n",
    "    k = ga(200, 300, eqIndex)\n",
    "    k = sort_dict(k)\n",
    "\n",
    "    val = list(k)[0]\n",
    "\n",
    "    function_accuracy5.append(val)"
   ]
  },
  {
   "cell_type": "code",
   "execution_count": null,
   "metadata": {},
   "outputs": [],
   "source": [
    "values = function_accuracy5.copy()\n",
    "\n",
    "values = [100 if v > 100 else v for v in values]\n",
    "\n",
    "xs = np.arange(98)\n",
    "plt.scatter(xs,values,color='red',marker='o')\n",
    "plt.plot(xs,values,color='blue')"
   ]
  }
 ],
 "metadata": {
  "kernelspec": {
   "display_name": "base",
   "language": "python",
   "name": "python3"
  },
  "language_info": {
   "codemirror_mode": {
    "name": "ipython",
    "version": 3
   },
   "file_extension": ".py",
   "mimetype": "text/x-python",
   "name": "python",
   "nbconvert_exporter": "python",
   "pygments_lexer": "ipython3",
   "version": "3.11.5"
  }
 },
 "nbformat": 4,
 "nbformat_minor": 2
}
