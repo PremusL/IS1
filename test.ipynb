{
 "cells": [
  {
   "cell_type": "code",
   "execution_count": 96,
   "metadata": {},
   "outputs": [
    {
     "name": "stdout",
     "output_type": "stream",
     "text": [
      "                                  Equation  \\\n",
      "0                           ((x ** 4) - 6)   \n",
      "1                      (((x / 8) * 2) + 1)   \n",
      "2                      (((x - 1) - 3) / 5)   \n",
      "3                                  (x * 5)   \n",
      "4                                  (x + 2)   \n",
      "..                                     ...   \n",
      "93            1*x**5 + -2*x**3 + -1*x + -5   \n",
      "94              3*x**5 + 2*x**4 + 1*x + -2   \n",
      "95                     -4*x**5 + -1*x + -5   \n",
      "96                                4*x + +1   \n",
      "97   -4*x**5 + 3*x**4 + -4*x**2 + -2*x + 5   \n",
      "\n",
      "                                                   Xs  \\\n",
      "0   [1, 2, 3, 4, 5, 6, 7, 8, 9, 10, 11, 12, 13, 14...   \n",
      "1   [1, 2, 3, 4, 5, 6, 7, 8, 9, 10, 11, 12, 13, 14...   \n",
      "2   [1, 2, 3, 4, 5, 6, 7, 8, 9, 10, 11, 12, 13, 14...   \n",
      "3   [1, 2, 3, 4, 5, 6, 7, 8, 9, 10, 11, 12, 13, 14...   \n",
      "4   [1, 2, 3, 4, 5, 6, 7, 8, 9, 10, 11, 12, 13, 14...   \n",
      "..                                                ...   \n",
      "93  [1, 2, 3, 4, 5, 6, 7, 8, 9, 10, 11, 12, 13, 14...   \n",
      "94  [1, 2, 3, 4, 5, 6, 7, 8, 9, 10, 11, 12, 13, 14...   \n",
      "95  [1, 2, 3, 4, 5, 6, 7, 8, 9, 10, 11, 12, 13, 14...   \n",
      "96  [1, 2, 3, 4, 5, 6, 7, 8, 9, 10, 11, 12, 13, 14...   \n",
      "97  [1, 2, 3, 4, 5, 6, 7, 8, 9, 10, 11, 12, 13, 14...   \n",
      "\n",
      "                                                   Ys  \n",
      "0   [-5, 10, 75, 250, 619, 1290, 2395, 4090, 6555,...  \n",
      "1   [1.25, 1.5, 1.75, 2.0, 2.25, 2.5, 2.75, 3.0, 3...  \n",
      "2   [-0.6, -0.4, -0.2, 0.0, 0.2, 0.4, 0.6, 0.8, 1....  \n",
      "3   [5, 10, 15, 20, 25, 30, 35, 40, 45, 50, 55, 60...  \n",
      "4   [3, 4, 5, 6, 7, 8, 9, 10, 11, 12, 13, 14, 15, ...  \n",
      "..                                                ...  \n",
      "93  [-7, 9, 181, 887, 2865, 7333, 16109, 31731, 57...  \n",
      "94  [4, 128, 892, 3586, 10628, 25924, 55228, 10650...  \n",
      "95  [-10, -135, -980, -4105, -12510, -31115, -6724...  \n",
      "96  [5, 9, 13, 17, 21, 25, 29, 33, 37, 41, 45, 49,...  \n",
      "97  [-2, -95, -766, -3395, -10730, -27367, -60230,...  \n",
      "\n",
      "[98 rows x 3 columns]\n"
     ]
    }
   ],
   "source": [
    "import pandas as pd\n",
    "from r import *\n",
    "import json\n",
    "\n",
    "data = pd.read_csv(\"./dataset.csv\")\n",
    "formule = data['Equation']\n",
    "print(data)\n",
    "\n",
    "for f in range(0, 97):\n",
    "    tokens = parse_equation1(formule[f])\n",
    "#     fix_sorted_tokens = fix2(tokens)\n",
    "#     sorted_tokens = sort_tokens(fix_sorted_tokens)\n",
    "\n",
    "#     tree = build_tree(sorted_tokens)\n",
    "#     rez = calculate_tree(tree, 2)\n",
    "#     print(f,formule[f],rez )\n",
    "#     # tree = build_tree(sorted_tokens)\n",
    "#     # print_infix(tree)\n"
   ]
  },
  {
   "cell_type": "code",
   "execution_count": 97,
   "metadata": {},
   "outputs": [],
   "source": [
    "def calcY(data):\n",
    "    expression = data[\"Equation\"]\n",
    "    calculateY = []\n",
    "    tokens = parse_equation1(expression)\n",
    "    fix_sorted_tokens = fix2(tokens)\n",
    "    sorted_tokens = sort_tokens(fix_sorted_tokens)\n",
    "\n",
    "    tree = build_tree(sorted_tokens)\n",
    "    rez = calculate_tree(tree, 2)\n",
    "    print(f,formule[f],rez )\n",
    "    # tree = build_tree(sorted_tokens)\n",
    "    # print_infix(tree)\n"
   ]
  },
  {
   "cell_type": "code",
   "execution_count": 432,
   "metadata": {},
   "outputs": [],
   "source": [
    "import random\n",
    "from r import calculate_tree, fix2\n",
    "import numpy as np\n",
    "\n",
    "def mutate_value(expression):\n",
    "    tokens = parse_equation1(expression)\n",
    "    for i,c in enumerate(tokens):\n",
    "        # print(c)\n",
    "        if c not in \"x*/()-+\" and c != \"x\":\n",
    "            mutateBool = [True, False, False, False, False]\n",
    "            if random.choice(mutateBool):\n",
    "                rand_vals = [str(random.randint(-9, -1)), str(random.randint(1, 9))]\n",
    "                new_val = random.choice(rand_vals)\n",
    "                tokens[i] = new_val\n",
    "    return tokens\n",
    "\n",
    "\n",
    "def mutate_operation(expression):\n",
    "    tokens = parse_equation1(expression)\n",
    "    for i,c in enumerate(tokens):\n",
    "        # print(c)\n",
    "        if c in \"*/-+^\":\n",
    "            mutateBool = [True, False, False, False, False]\n",
    "            if random.choice(mutateBool):\n",
    "                rand_op = [\"+\", \"-\", \"*\",\"/\", \"^\"]\n",
    "                new_val = random.choice(rand_op)\n",
    "                tokens[i] = new_val\n",
    "    return tokens\n",
    "\n",
    "def mutate_life(tokens):\n",
    "    mutation_bool = random.choice([0,0,0,0,0,0,0, 1,1, 2,2, 3])\n",
    "           \n",
    "# fix_tokens = fix2(tokens)\n",
    "# sorted_tokens = sort_tokens(fix_tokens)\n",
    "# print(sorted_tokens)\n",
    "\n",
    "# tree1 = build_tree(sorted_tokens)\n",
    "\n",
    "# tokens2 = mutate_operation(tokens)\n",
    "# fix_tokens_2 = fix2(tokens2)\n",
    "\n",
    "# print(fix_tokens_2)\n",
    "\n",
    "# sorted_tokens_2 = sort_tokens(fix_tokens_2)\n",
    "# tree2 = build_tree(sorted_tokens_2)\n",
    "\n",
    "\n",
    "# # print_infix(tree1)\n",
    "# print(eq)\n",
    "# print_infix(tree2)\n"
   ]
  },
  {
   "cell_type": "code",
   "execution_count": 433,
   "metadata": {},
   "outputs": [],
   "source": [
    "def fitness_primitive(guess_eq, df, index):\n",
    "    row = df.iloc[index]\n",
    "    Xs = json.loads(row['Xs'])\n",
    "    \n",
    "    Ys = json.loads(row['Ys'])\n",
    "    real_eq = row['Equation']\n",
    "\n",
    "    tokens = parse_equation1(guess_eq)\n",
    "    fix_tokens = fix2(tokens)\n",
    "    sorted_tokens = sort_tokens(fix_tokens)\n",
    "    tree = build_tree(sorted_tokens)\n",
    "    fitnessVal = 0\n",
    "    for i in range(len(Xs)):\n",
    "        rez = calculate_tree(tree, int(Xs[i]))\n",
    "        real_val = int(Ys[i])\n",
    "        sub = round(np.abs(real_val - rez), 5)\n",
    "        if sub == 0:\n",
    "            fitnessVal += 9999\n",
    "        else:\n",
    "            fitnessVal += 1/sub\n",
    "    return fitnessVal\n",
    "        \n",
    "    \n",
    "def generate_expression():\n",
    "    operators = [\"+\", \"-\", \"*\",\"/\", \"**\"]\n",
    "    vals = [str(random.randint(1, 9)), \"x\"]\n",
    "    num_terms = random.randint(2, 4)\n",
    "    terms = []\n",
    "    x = 0\n",
    "    for i in range(num_terms):\n",
    "        op = random.choice(operators)\n",
    "        if (x == 0 and i == num_terms - 1):\n",
    "            num = \"x\"\n",
    "            x += 1\n",
    "        else:\n",
    "            num = random.choice(vals)\n",
    "            if (num == \"x\"):\n",
    "                x += 1\n",
    "        terms.append(op)\n",
    "        terms.append(num)\n",
    "\n",
    "    terms.pop(0)\n",
    "    expression = \"\".join(terms)\n",
    "\n",
    "    return expression\n",
    "\n",
    "# expression = generate_expression()\n",
    "# print(expression)\n",
    "# fitnesVal = fitness_primitive(expression, data, 1)\n",
    "# print(fitnesVal)"
   ]
  },
  {
   "cell_type": "code",
   "execution_count": 440,
   "metadata": {},
   "outputs": [
    {
     "ename": "IndexError",
     "evalue": "pop from empty list",
     "output_type": "error",
     "traceback": [
      "\u001b[1;31m---------------------------------------------------------------------------\u001b[0m",
      "\u001b[1;31mIndexError\u001b[0m                                Traceback (most recent call last)",
      "\u001b[1;32md:\\PROJECTS\\IS\\seminar\\IS1\\test.ipynb Cell 5\u001b[0m line \u001b[0;36m5\n\u001b[0;32m     <a href='vscode-notebook-cell:/d%3A/PROJECTS/IS/seminar/IS1/test.ipynb#W3sZmlsZQ%3D%3D?line=44'>45</a>\u001b[0m         new_dict \u001b[39m=\u001b[39m \u001b[39mdict\u001b[39m(\u001b[39mlist\u001b[39m(result\u001b[39m.\u001b[39mitems())[:N]) \n\u001b[0;32m     <a href='vscode-notebook-cell:/d%3A/PROJECTS/IS/seminar/IS1/test.ipynb#W3sZmlsZQ%3D%3D?line=46'>47</a>\u001b[0m     \u001b[39mreturn\u001b[39;00m result\n\u001b[1;32m---> <a href='vscode-notebook-cell:/d%3A/PROJECTS/IS/seminar/IS1/test.ipynb#W3sZmlsZQ%3D%3D?line=51'>52</a>\u001b[0m k \u001b[39m=\u001b[39m ga(\u001b[39m100\u001b[39m)\n\u001b[0;32m     <a href='vscode-notebook-cell:/d%3A/PROJECTS/IS/seminar/IS1/test.ipynb#W3sZmlsZQ%3D%3D?line=52'>53</a>\u001b[0m \u001b[39mprint\u001b[39m(k)\n",
      "\u001b[1;32md:\\PROJECTS\\IS\\seminar\\IS1\\test.ipynb Cell 5\u001b[0m line \u001b[0;36m3\n\u001b[0;32m     <a href='vscode-notebook-cell:/d%3A/PROJECTS/IS/seminar/IS1/test.ipynb#W3sZmlsZQ%3D%3D?line=27'>28</a>\u001b[0m \u001b[39mif\u001b[39;00m mutation_choice \u001b[39m==\u001b[39m \u001b[39m1\u001b[39m:\n\u001b[0;32m     <a href='vscode-notebook-cell:/d%3A/PROJECTS/IS/seminar/IS1/test.ipynb#W3sZmlsZQ%3D%3D?line=29'>30</a>\u001b[0m     expression \u001b[39m=\u001b[39m mutate_value(result[ele])   \n\u001b[1;32m---> <a href='vscode-notebook-cell:/d%3A/PROJECTS/IS/seminar/IS1/test.ipynb#W3sZmlsZQ%3D%3D?line=31'>32</a>\u001b[0m     fitness \u001b[39m=\u001b[39m fitness_primitive(arr_to_string(expression), data, \u001b[39m1\u001b[39m)\n\u001b[0;32m     <a href='vscode-notebook-cell:/d%3A/PROJECTS/IS/seminar/IS1/test.ipynb#W3sZmlsZQ%3D%3D?line=33'>34</a>\u001b[0m     result[fitness] \u001b[39m=\u001b[39m expression\n\u001b[0;32m     <a href='vscode-notebook-cell:/d%3A/PROJECTS/IS/seminar/IS1/test.ipynb#W3sZmlsZQ%3D%3D?line=34'>35</a>\u001b[0m \u001b[39mif\u001b[39;00m mutation_choice \u001b[39m==\u001b[39m \u001b[39m2\u001b[39m:\n",
      "\u001b[1;32md:\\PROJECTS\\IS\\seminar\\IS1\\test.ipynb Cell 5\u001b[0m line \u001b[0;36m1\n\u001b[0;32m      <a href='vscode-notebook-cell:/d%3A/PROJECTS/IS/seminar/IS1/test.ipynb#W3sZmlsZQ%3D%3D?line=8'>9</a>\u001b[0m fix_tokens \u001b[39m=\u001b[39m fix2(tokens)\n\u001b[0;32m     <a href='vscode-notebook-cell:/d%3A/PROJECTS/IS/seminar/IS1/test.ipynb#W3sZmlsZQ%3D%3D?line=9'>10</a>\u001b[0m sorted_tokens \u001b[39m=\u001b[39m sort_tokens(fix_tokens)\n\u001b[1;32m---> <a href='vscode-notebook-cell:/d%3A/PROJECTS/IS/seminar/IS1/test.ipynb#W3sZmlsZQ%3D%3D?line=10'>11</a>\u001b[0m tree \u001b[39m=\u001b[39m build_tree(sorted_tokens)\n\u001b[0;32m     <a href='vscode-notebook-cell:/d%3A/PROJECTS/IS/seminar/IS1/test.ipynb#W3sZmlsZQ%3D%3D?line=11'>12</a>\u001b[0m fitnessVal \u001b[39m=\u001b[39m \u001b[39m0\u001b[39m\n\u001b[0;32m     <a href='vscode-notebook-cell:/d%3A/PROJECTS/IS/seminar/IS1/test.ipynb#W3sZmlsZQ%3D%3D?line=12'>13</a>\u001b[0m \u001b[39mfor\u001b[39;00m i \u001b[39min\u001b[39;00m \u001b[39mrange\u001b[39m(\u001b[39mlen\u001b[39m(Xs)):\n",
      "File \u001b[1;32md:\\PROJECTS\\IS\\seminar\\IS1\\r.py:150\u001b[0m, in \u001b[0;36mbuild_tree\u001b[1;34m(tokens)\u001b[0m\n\u001b[0;32m    146\u001b[0m \u001b[39melif\u001b[39;00m token \u001b[39min\u001b[39;00m \u001b[39m\"\u001b[39m\u001b[39m+-*/^\u001b[39m\u001b[39m\"\u001b[39m:\n\u001b[0;32m    147\u001b[0m     \u001b[39m# Pop two nodes from the stack and create a new node with the token as its value and\u001b[39;00m\n\u001b[0;32m    148\u001b[0m     \u001b[39m# the popped nodes as its left and right children\u001b[39;00m\n\u001b[0;32m    149\u001b[0m     right \u001b[39m=\u001b[39m stack\u001b[39m.\u001b[39mpop()\n\u001b[1;32m--> 150\u001b[0m     left \u001b[39m=\u001b[39m stack\u001b[39m.\u001b[39mpop()\n\u001b[0;32m    153\u001b[0m     node \u001b[39m=\u001b[39m Node(token)\n\u001b[0;32m    154\u001b[0m     node\u001b[39m.\u001b[39mleft \u001b[39m=\u001b[39m left\n",
      "\u001b[1;31mIndexError\u001b[0m: pop from empty list"
     ]
    }
   ],
   "source": [
    "results = {}\n",
    "N = 100\n",
    "def sort_dict(dict):\n",
    "    return {k: dict[k] for k in sorted(dict, reverse=True)}\n",
    "\n",
    "def arr_to_string(array):\n",
    "    return ''.join(map(str, array))\n",
    "\n",
    "\n",
    "def ga(N):\n",
    "    \n",
    "    for i in range(N):\n",
    "        expression = generate_expression()\n",
    "        fitness = fitness_primitive(expression, data, 1)\n",
    "    \n",
    "        results[fitness] = expression\n",
    "    \n",
    "    N = N // 2\n",
    "    \n",
    "    result = sort_dict(results)\n",
    "    new_dict = dict(list(result.items())[:N])\n",
    "\n",
    "    while N > 1:\n",
    "        for ele in new_dict:\n",
    "            mutation_choice = random.choice([0,0,0,0,0,0,0, 1,1, 2,2])\n",
    "\n",
    "            # print(type(ele), type(dict_new[ele]))\n",
    "            if mutation_choice == 1:\n",
    "                \n",
    "                expression = mutate_value(result[ele])   \n",
    "                \n",
    "                fitness = fitness_primitive(arr_to_string(expression), data, 1)\n",
    "                \n",
    "                result[fitness] = expression\n",
    "            if mutation_choice == 2:\n",
    "                \n",
    "                \n",
    "                expression = mutate_operation(result[ele])\n",
    "                fitness = fitness_primitive(arr_to_string(expression), data, 1)\n",
    "                result[fitness] = expression\n",
    "        \n",
    "        \n",
    "        N = N // 2\n",
    "        result = sort_dict(results)\n",
    "        new_dict = dict(list(result.items())[:N]) \n",
    "        \n",
    "    return result\n",
    "            \n",
    "    \n",
    "    \n",
    "\n",
    "k = ga(100)\n",
    "print(k)"
   ]
  },
  {
   "cell_type": "code",
   "execution_count": null,
   "metadata": {},
   "outputs": [],
   "source": [
    "# def tekmovanje(population, n=5) "
   ]
  },
  {
   "cell_type": "code",
   "execution_count": 101,
   "metadata": {},
   "outputs": [],
   "source": [
    "def calcY(data):\n",
    "    expression = data[\"Equation\"]\n",
    "    calculateY = []\n",
    "    tokens = parse_equation1(expression)\n",
    "    fix_sorted_tokens = fix2(tokens)\n",
    "    sorted_tokens = sort_tokens(fix_sorted_tokens)\n",
    "\n",
    "    tree = build_tree(sorted_tokens)\n",
    "    numbers = json.loads(data['Xs'])\n",
    "    for i in numbers:\n",
    "        rez = calculate_tree(tree, i)\n",
    "        calculateY.append(rez)\n",
    "    # print(0,expression,rez )\n",
    "    print(calculateY)\n",
    "\n",
    "    return calculateY\n",
    "    "
   ]
  },
  {
   "cell_type": "code",
   "execution_count": 102,
   "metadata": {},
   "outputs": [
    {
     "name": "stdout",
     "output_type": "stream",
     "text": [
      "[-5, 10, 75, 250, 619, 1290, 2395, 4090, 6555, 9994, 14635, 20730, 28555, 38410, 50619, 65530, 83515, 104970, 130315, 159994, 194475, 234250, 279835, 331770, 390619, 456970, 531435, 614650, 707275, 809994, 923515, 1048570, 1185915, 1336330, 1500619, 1679610, 1874155, 2085130, 2313435, 2559994, 2825755, 3111690, 3418795, 3748090, 4100619, 4477450, 4879675, 5308410, 5764795, 6249994, 6765195, 7311610, 7890475, 8503050, 9150619, 9834490, 10555995, 11316490, 12117355, 12959994, 13845835, 14776330, 15752955, 16777210, 17850619, 18974730, 20151115, 21381370, 22667115, 24009994, 25411675, 26873850, 28398235, 29986570, 31640619, 33362170, 35153035, 37015050, 38950075, 40959994, 43046715, 45212170, 47458315, 49787130, 52200619, 54700810, 57289755, 59969530, 62742235, 65609994, 68574955, 71639290, 74805195, 78074890, 81450619, 84934650, 88529275, 92236810, 96059595, 99999994]\n"
     ]
    }
   ],
   "source": [
    "calculate_y=calcY(data.iloc[0])"
   ]
  },
  {
   "cell_type": "code",
   "execution_count": 103,
   "metadata": {},
   "outputs": [],
   "source": [
    "# def fitness_function(ga_instance, Ys,data):\n",
    "#     expected_Ys = json.loads(data['Ys'])\n",
    "#     errors = []\n",
    "#     for i in range(len(Ys)):\n",
    "#         rez = (expected_Ys[i]-Ys[i])**2\n",
    "#         errors.append(rez)\n",
    "#     return sum(errors)/len(errors)"
   ]
  },
  {
   "cell_type": "code",
   "execution_count": 104,
   "metadata": {},
   "outputs": [],
   "source": [
    "# MSE = fitness_function(calculate_y,data.iloc[0])\n",
    "# print(MSE)"
   ]
  },
  {
   "cell_type": "markdown",
   "metadata": {},
   "source": []
  },
  {
   "cell_type": "code",
   "execution_count": 105,
   "metadata": {},
   "outputs": [
    {
     "ename": "NameError",
     "evalue": "name 'fitness_function' is not defined",
     "output_type": "error",
     "traceback": [
      "\u001b[1;31m---------------------------------------------------------------------------\u001b[0m",
      "\u001b[1;31mNameError\u001b[0m                                 Traceback (most recent call last)",
      "\u001b[1;32md:\\PROJECTS\\IS\\seminar\\IS1\\test.ipynb Cell 11\u001b[0m line \u001b[0;36m3\n\u001b[0;32m      <a href='vscode-notebook-cell:/d%3A/PROJECTS/IS/seminar/IS1/test.ipynb#X12sZmlsZQ%3D%3D?line=0'>1</a>\u001b[0m \u001b[39mimport\u001b[39;00m \u001b[39mpygad\u001b[39;00m\n\u001b[0;32m      <a href='vscode-notebook-cell:/d%3A/PROJECTS/IS/seminar/IS1/test.ipynb#X12sZmlsZQ%3D%3D?line=1'>2</a>\u001b[0m ga_instance \u001b[39m=\u001b[39m pygad\u001b[39m.\u001b[39mGA(num_generations\u001b[39m=\u001b[39m\u001b[39m100\u001b[39m,\n\u001b[1;32m----> <a href='vscode-notebook-cell:/d%3A/PROJECTS/IS/seminar/IS1/test.ipynb#X12sZmlsZQ%3D%3D?line=2'>3</a>\u001b[0m                        fitness_func\u001b[39m=\u001b[39mfitness_function,\n\u001b[0;32m      <a href='vscode-notebook-cell:/d%3A/PROJECTS/IS/seminar/IS1/test.ipynb#X12sZmlsZQ%3D%3D?line=3'>4</a>\u001b[0m                        num_parents_mating\u001b[39m=\u001b[39m\u001b[39m10\u001b[39m,\n\u001b[0;32m      <a href='vscode-notebook-cell:/d%3A/PROJECTS/IS/seminar/IS1/test.ipynb#X12sZmlsZQ%3D%3D?line=4'>5</a>\u001b[0m                        sol_per_pop\u001b[39m=\u001b[39m\u001b[39m20\u001b[39m,\n\u001b[0;32m      <a href='vscode-notebook-cell:/d%3A/PROJECTS/IS/seminar/IS1/test.ipynb#X12sZmlsZQ%3D%3D?line=5'>6</a>\u001b[0m                        mutation_type\u001b[39m=\u001b[39m\u001b[39m\"\u001b[39m\u001b[39madaptive\u001b[39m\u001b[39m\"\u001b[39m,\n\u001b[0;32m      <a href='vscode-notebook-cell:/d%3A/PROJECTS/IS/seminar/IS1/test.ipynb#X12sZmlsZQ%3D%3D?line=6'>7</a>\u001b[0m                        mutation_num_genes\u001b[39m=\u001b[39m(\u001b[39m3\u001b[39m, \u001b[39m1\u001b[39m))\n",
      "\u001b[1;31mNameError\u001b[0m: name 'fitness_function' is not defined"
     ]
    }
   ],
   "source": [
    "import pygad\n",
    "ga_instance = pygad.GA(num_generations=100,\n",
    "                       fitness_func=fitness_function,\n",
    "                       num_parents_mating=10,\n",
    "                       sol_per_pop=20,\n",
    "                       mutation_type=\"adaptive\",\n",
    "                       mutation_num_genes=(3, 1))"
   ]
  }
 ],
 "metadata": {
  "kernelspec": {
   "display_name": "base",
   "language": "python",
   "name": "python3"
  },
  "language_info": {
   "codemirror_mode": {
    "name": "ipython",
    "version": 3
   },
   "file_extension": ".py",
   "mimetype": "text/x-python",
   "name": "python",
   "nbconvert_exporter": "python",
   "pygments_lexer": "ipython3",
   "version": "3.11.5"
  }
 },
 "nbformat": 4,
 "nbformat_minor": 2
}
